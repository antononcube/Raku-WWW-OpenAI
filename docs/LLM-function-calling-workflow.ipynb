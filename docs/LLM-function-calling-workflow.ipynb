{
 "cells": [
  {
   "cell_type": "markdown",
   "id": "4f19be3f",
   "metadata": {},
   "source": [
    "# Using OpenAI's Function Calling\n",
    "\n",
    "Anton Antonov   \n",
    "[RakuForPrediction at WordPress](https://rakuforprediction.wordpress.com)   \n",
    "May 2025"
   ]
  },
  {
   "cell_type": "markdown",
   "id": "d5db6a8c",
   "metadata": {},
   "source": [
    "-----\n",
    "\n",
    "## Introduction"
   ]
  },
  {
   "cell_type": "markdown",
   "id": "8b47dbde",
   "metadata": {},
   "source": [
    "This notebook shows how to do [Function Calling](https://platform.openai.com/docs/guides/function-calling) workflows with Large Language Models (LLMs) of OpenAI. \n",
    "\n",
    "(The Raku package [\"WWW::OpenAI\"](https://github.com/antononcube/Raku-WWW-OpenAI) is used.)"
   ]
  },
  {
   "cell_type": "markdown",
   "id": "b0bcc90a",
   "metadata": {},
   "source": [
    "-----\n",
    "\n",
    "## Setup"
   ]
  },
  {
   "cell_type": "markdown",
   "id": "7fe460b7",
   "metadata": {},
   "source": [
    "Load packages:"
   ]
  },
  {
   "cell_type": "code",
   "execution_count": 1,
   "id": "f8afa369",
   "metadata": {},
   "outputs": [],
   "source": [
    "use WWW::OpenAI;\n",
    "use JSON::Fast;"
   ]
  },
  {
   "cell_type": "markdown",
   "id": "515092ec",
   "metadata": {},
   "source": [
    "Choose a model:"
   ]
  },
  {
   "cell_type": "code",
   "execution_count": null,
   "id": "adbe3cca",
   "metadata": {},
   "outputs": [
    {
     "data": {
      "text/plain": [
       "gpt-4.1"
      ]
     },
     "execution_count": 7,
     "metadata": {},
     "output_type": "execute_result"
    }
   ],
   "source": [
    "my $model = \"gpt-4.1\";"
   ]
  },
  {
   "cell_type": "markdown",
   "id": "559fdce8",
   "metadata": {},
   "source": [
    "------\n",
    "\n",
    "## Workflow"
   ]
  },
  {
   "cell_type": "markdown",
   "id": "af53047d",
   "metadata": {},
   "source": [
    "### Define a local function\n",
    "\n",
    "This is the \"tool\" to be communicated to OpenAI."
   ]
  },
  {
   "cell_type": "code",
   "execution_count": null,
   "id": "3e5eda70",
   "metadata": {},
   "outputs": [
    {
     "data": {
      "text/plain": [
       "{function => {description => Get the current weather for a given location, name => get_current_weather, parameters => {properties => {location => {description => The city and state, e.g., San Francisco, CA, type => string}, unit => {description => The temperature unit to use, enum => [celsius fahrenheit], type => string}}, required => [location], type => object}}, type => function}"
      ]
     },
     "execution_count": 8,
     "metadata": {},
     "output_type": "execute_result"
    }
   ],
   "source": [
    "# Define the local function\n",
    "sub get_current_weather(Str $location, Str $unit = \"fahrenheit\") returns Str {\n",
    "    return \"It is currently sunny in $location with a temperature of 72 degrees $unit.\";\n",
    "}\n",
    "\n",
    "# Define the function specification\n",
    "my $function-spec = {\n",
    "    type => \"function\",\n",
    "    function => {\n",
    "        name => \"get_current_weather\",\n",
    "        description => \"Get the current weather for a given location\",\n",
    "        parameters => {\n",
    "            type => \"object\",\n",
    "            properties => {\n",
    "                location => {\n",
    "                    type => \"string\",\n",
    "                    description => \"The city and state, e.g., San Francisco, CA\"\n",
    "                },\n",
    "                unit => {\n",
    "                    type => \"string\",\n",
    "                    enum => [\"celsius\", \"fahrenheit\"],\n",
    "                    description => \"The temperature unit to use\"\n",
    "                }\n",
    "            },\n",
    "            required => [\"location\"]\n",
    "        }\n",
    "    }\n",
    "};"
   ]
  },
  {
   "cell_type": "markdown",
   "id": "9c08feac",
   "metadata": {},
   "source": [
    "### First communication with OpenAI"
   ]
  },
  {
   "cell_type": "code",
   "execution_count": null,
   "id": "90341438",
   "metadata": {},
   "outputs": [
    {
     "data": {
      "text/plain": [
       "[{finish_reason => tool_calls, index => 0, logprobs => (Any), message => {annotations => [], content => (Any), refusal => (Any), role => assistant, tool_calls => [{function => {arguments => {\"location\":\"Boston, MA\"}, name => get_current_weather}, id => call_vce1qmDSfHovNoN5yUJotp5s, type => function}]}}]"
      ]
     },
     "execution_count": 9,
     "metadata": {},
     "output_type": "execute_result"
    }
   ],
   "source": [
    "# Initialize messages and tools\n",
    "my @messages =\n",
    "    {role => \"system\", content =>  \"You are a helpful assistant that can provide weather information.\"},\n",
    "    {role => \"user\", content => \"What's the weather in Boston, MA?\"}\n",
    "    ;\n",
    "\n",
    "my @tools = [$function-spec,];\n",
    "\n",
    "# Send the first chat completion request\n",
    "my $response = openai-chat-completion(\n",
    "    @messages,\n",
    "    #functions => @tools,\n",
    "    :@tools,\n",
    "    #tool_choice => \"auto\",\n",
    "    :$model,\n",
    "    max-tokens => 4096,\n",
    "    format => \"raku\"\n",
    ");"
   ]
  },
  {
   "cell_type": "markdown",
   "id": "14cfeaf5",
   "metadata": {},
   "source": [
    "### Refine the response with functional calls"
   ]
  },
  {
   "cell_type": "code",
   "execution_count": null,
   "id": "3c22e719",
   "metadata": {},
   "outputs": [
    {
     "name": "stdout",
     "output_type": "stream",
     "text": [
      "Assistant: The current weather in Boston, MA is sunny with a temperature of 72\n"
     ]
    }
   ],
   "source": [
    "# Process the response\n",
    "my @messages2 = @messages;\n",
    "\n",
    "my $assistant-message = $response[0]<message>;\n",
    "if $assistant-message<tool_calls> {\n",
    "\n",
    "    @messages2.push: {\n",
    "        role => \"assistant\",\n",
    "        tool_calls => $assistant-message<tool_calls>\n",
    "    };\n",
    "\n",
    "\n",
    "    my $tool-call = $assistant-message<tool_calls>[0];\n",
    "    my $function-name = $tool-call<function><name>;\n",
    "    my $function-args = from-json($tool-call<function><arguments>);\n",
    "    \n",
    "    if $function-name eq \"get_current_weather\" {\n",
    "        my $result = get_current_weather(\n",
    "            $function-args<location>,\n",
    "            $function-args<unit> // \"fahrenheit\"\n",
    "        );\n",
    "        @messages2.push: {\n",
    "            role => \"tool\",\n",
    "            content => $result,\n",
    "            tool_call_id => $tool-call<id>\n",
    "        };\n",
    "        # Send the second request with function result\n",
    "        my $final-response = openai-chat-completion(\n",
    "            @messages2,\n",
    "            :@tools,\n",
    "            #tool_choice => \"auto\",\n",
    "            :$model,\n",
    "            format => \"raku\"\n",
    "        );\n",
    "        say \"Assistant: $final-response[0]<message><content>\";\n",
    "    }\n",
    "} else {\n",
    "    say \"Assistant: $assistant-message<content>\";\n",
    "}"
   ]
  }
 ],
 "metadata": {
  "kernelspec": {
   "display_name": "RakuChatbook",
   "language": "raku",
   "name": "raku"
  },
  "language_info": {
   "file_extension": ".raku",
   "mimetype": "text/x-raku",
   "name": "raku",
   "version": "6.d"
  }
 },
 "nbformat": 4,
 "nbformat_minor": 5
}
